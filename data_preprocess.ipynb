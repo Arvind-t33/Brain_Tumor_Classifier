{
 "cells": [
  {
   "cell_type": "code",
   "execution_count": 1,
   "metadata": {},
   "outputs": [],
   "source": [
    "import numpy as np\n",
    "import matplotlib.pyplot as plt\n",
    "import matplotlib.patches as patches\n",
    "import keras"
   ]
  },
  {
   "cell_type": "code",
   "execution_count": 2,
   "metadata": {},
   "outputs": [],
   "source": [
    "# libraries to import the .mat files\n",
    "import scipy.io as sio\n",
    "import h5py"
   ]
  },
  {
   "cell_type": "code",
   "execution_count": 3,
   "metadata": {},
   "outputs": [],
   "source": [
    "# importing os to get the current directory\n",
    "import os"
   ]
  },
  {
   "cell_type": "code",
   "execution_count": 6,
   "metadata": {},
   "outputs": [],
   "source": [
    "# Define the directory where the data is located\n",
    "data_dir = 'data'\n",
    "\n",
    "# Get a list of all subdirectories in the data directory that start with 'brainTumorDataPublic_'\n",
    "data_dirs = [f for f in os.listdir(data_dir) if f.startswith('brainTumorDataPublic_') and os.path.isdir(os.path.join(data_dir, f))]\n",
    "\n",
    "# Initialize an empty list to store the data\n",
    "data = []\n",
    "counter = 0\n",
    "\n",
    "# Loop over each subdirectory\n",
    "for d in data_dirs:\n",
    "    # Get a list of all .mat files in the subdirectory\n",
    "    files = [f for f in os.listdir(os.path.join(data_dir, d)) if f.endswith('.mat')]\n",
    "    \n",
    "    # Load each .mat file and append it to the data list\n",
    "    for f in files:\n",
    "        with h5py.File(os.path.join(data_dir, d, f), 'r') as file:\n",
    "            # Access the 'cjdata' group\n",
    "            cjdata = file['cjdata']\n",
    "\n",
    "            # Initialize an empty dictionary to store the data from this file\n",
    "            file_data = {}\n",
    "            \n",
    "            # Convert the data to a numpy array and append it to the data list\n",
    "            for name in cjdata:\n",
    "                # Add the member to the dictionary\n",
    "                file_data[name] = np.array(cjdata[name])\n",
    "            # Append the dictionary to the data list\n",
    "            data.append(file_data)\n",
    "\n",
    "            # Increment the counter\n",
    "            counter += 1\n",
    "            # print the PID and label\n",
    "            # print(f'Counter: {counter}')\n",
    "            "
   ]
  },
  {
   "cell_type": "code",
   "execution_count": 9,
   "metadata": {},
   "outputs": [
    {
     "name": "stdout",
     "output_type": "stream",
     "text": [
      "Labels: dict_keys(['PID', 'image', 'label', 'tumorBorder', 'tumorMask'])\n",
      "Number of samples: 3064\n"
     ]
    }
   ],
   "source": [
    "# Print the labels of the first sample\n",
    "print(f'Labels: {data[0].keys()}')\n",
    "\n",
    "# Print the number of samples\n",
    "print(f'Number of samples: {len(data)}')"
   ]
  },
  {
   "cell_type": "code",
   "execution_count": 12,
   "metadata": {},
   "outputs": [
    {
     "name": "stdout",
     "output_type": "stream",
     "text": [
      "Sample 0:\n",
      "  PID: (6, 1)\n",
      "  image: (512, 512)\n",
      "  label: (1, 1)\n",
      "  tumorBorder: (1, 24)\n",
      "  tumorMask: (512, 512)\n",
      "Sample 1:\n",
      "  PID: (6, 1)\n",
      "  image: (512, 512)\n",
      "  label: (1, 1)\n",
      "  tumorBorder: (1, 26)\n",
      "  tumorMask: (512, 512)\n",
      "Sample 2:\n",
      "  PID: (6, 1)\n",
      "  image: (512, 512)\n",
      "  label: (1, 1)\n",
      "  tumorBorder: (1, 30)\n",
      "  tumorMask: (512, 512)\n"
     ]
    }
   ],
   "source": [
    "# for the first 3 samples, print the keys and the shape of the data\n",
    "for i in range(3):\n",
    "    print(f'Sample {i}:')\n",
    "    for key in data[i]:\n",
    "        print(f'  {key}: {data[i][key].shape}')"
   ]
  },
  {
   "cell_type": "code",
   "execution_count": null,
   "metadata": {},
   "outputs": [],
   "source": [
    "# for the first 3 samples, print the image (which is a 512 by 512 matrix), the tumorBorder (1, 30), and the tumorMask (512, 512)"
   ]
  }
 ],
 "metadata": {
  "kernelspec": {
   "display_name": "base",
   "language": "python",
   "name": "python3"
  },
  "language_info": {
   "codemirror_mode": {
    "name": "ipython",
    "version": 3
   },
   "file_extension": ".py",
   "mimetype": "text/x-python",
   "name": "python",
   "nbconvert_exporter": "python",
   "pygments_lexer": "ipython3",
   "version": "3.10.9"
  }
 },
 "nbformat": 4,
 "nbformat_minor": 2
}
